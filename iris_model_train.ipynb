{
 "cells": [
  {
   "cell_type": "code",
   "execution_count": null,
   "id": "1b4112a9-1f04-44e9-a2bf-358750c0034e",
   "metadata": {},
   "outputs": [
    {
     "data": {
      "text/plain": [
       "array(['Iris-versicolor', 'Iris-setosa', 'Iris-setosa', 'Iris-setosa',\n",
       "       'Iris-setosa', 'Iris-versicolor', 'Iris-setosa', 'Iris-setosa',\n",
       "       'Iris-setosa', 'Iris-setosa', 'Iris-setosa', 'Iris-setosa',\n",
       "       'Iris-setosa', 'Iris-setosa', 'Iris-versicolor', 'Iris-setosa',\n",
       "       'Iris-setosa', 'Iris-setosa', 'Iris-setosa', 'Iris-setosa',\n",
       "       'Iris-setosa', 'Iris-setosa', 'Iris-setosa', 'Iris-versicolor',\n",
       "       'Iris-versicolor', 'Iris-setosa', 'Iris-setosa', 'Iris-setosa',\n",
       "       'Iris-setosa', 'Iris-versicolor', 'Iris-versicolor', 'Iris-setosa',\n",
       "       'Iris-setosa', 'Iris-setosa'], dtype=object)"
      ]
     },
     "execution_count": 21,
     "metadata": {},
     "output_type": "execute_result"
    }
   ],
   "source": [
    "import pandas as pd\n",
    "from sklearn.ensemble import RandomForestClassifier\n",
    "data = pd.read_excel('iris-train.xlsx')\n",
    "x = data.iloc[:,:-1]\n",
    "y = data.iloc[:,-1]\n",
    "model = RandomForestClassifier()\n",
    "model = model.fit(x.values,y.values)\n",
    "data_test = pd.read_excel('iris-test.xlsx')\n",
    "x_test = data_test.iloc[:,:-1]\n",
    "x_test\n",
    "model.predict(x_test.values)"
   ]
  },
  {
   "cell_type": "code",
   "execution_count": null,
   "id": "aa5a9e93",
   "metadata": {},
   "outputs": [],
   "source": []
  },
  {
   "cell_type": "code",
   "execution_count": 26,
   "id": "3b8ecd56-ee19-423a-9dd9-a60bbbf12ef5",
   "metadata": {},
   "outputs": [
    {
     "data": {
      "text/plain": [
       "array(['Orange'], dtype='<U6')"
      ]
     },
     "execution_count": 26,
     "metadata": {},
     "output_type": "execute_result"
    }
   ],
   "source": [
    "from sklearn import tree\n",
    "#  0 represet Red colour and 1 represent Orange colour and the 170 and 190 are weights in gm\n",
    "data = [\n",
    "    [170,0],\n",
    "    [190,0],\n",
    "    [110,1],\n",
    "    [90,1]\n",
    "]\n",
    "labels = ['Apple','Apple','Orange','Orange']\n",
    "model = tree.DecisionTreeClassifier()\n",
    "model = model.fit(data,labels)\n",
    "model.predict([[170,1]])"
   ]
  },
  {
   "cell_type": "code",
   "execution_count": null,
   "id": "7939d06b-e91c-4762-97b0-fa1f3c429067",
   "metadata": {},
   "outputs": [],
   "source": []
  },
  {
   "cell_type": "markdown",
   "id": "13eda4c9",
   "metadata": {},
   "source": []
  }
 ],
 "metadata": {
  "kernelspec": {
   "display_name": "Python 3 (ipykernel)",
   "language": "python",
   "name": "python3"
  },
  "language_info": {
   "codemirror_mode": {
    "name": "ipython",
    "version": 3
   },
   "file_extension": ".py",
   "mimetype": "text/x-python",
   "name": "python",
   "nbconvert_exporter": "python",
   "pygments_lexer": "ipython3",
   "version": "3.12.7"
  }
 },
 "nbformat": 4,
 "nbformat_minor": 5
}
